{
 "cells": [
  {
   "cell_type": "code",
   "execution_count": 1,
   "metadata": {
    "collapsed": true
   },
   "outputs": [],
   "source": [
    "%matplotlib inline\n",
    "import matplotlib.pyplot as plt\n",
    "import networkx as nx\n",
    "import numpy as np"
   ]
  },
  {
   "cell_type": "code",
   "execution_count": 2,
   "metadata": {
    "collapsed": false
   },
   "outputs": [
    {
     "ename": "IndexError",
     "evalue": "list index out of range",
     "output_type": "error",
     "traceback": [
      "\u001b[1;31m---------------------------------------------------------------------------\u001b[0m",
      "\u001b[1;31mIndexError\u001b[0m                                Traceback (most recent call last)",
      "\u001b[1;32m<ipython-input-2-7d4a97c2b6df>\u001b[0m in \u001b[0;36m<module>\u001b[1;34m()\u001b[0m\n\u001b[0;32m     12\u001b[0m ]\n\u001b[0;32m     13\u001b[0m \u001b[1;32mfor\u001b[0m \u001b[0mt\u001b[0m \u001b[1;32min\u001b[0m \u001b[0mxrange\u001b[0m\u001b[1;33m(\u001b[0m\u001b[1;36m1\u001b[0m\u001b[1;33m,\u001b[0m\u001b[1;36m11\u001b[0m\u001b[1;33m)\u001b[0m\u001b[1;33m:\u001b[0m\u001b[1;33m\u001b[0m\u001b[0m\n\u001b[1;32m---> 14\u001b[1;33m     \u001b[0mxmax\u001b[0m \u001b[1;33m=\u001b[0m \u001b[0mhuge\u001b[0m\u001b[1;33m[\u001b[0m\u001b[0mt\u001b[0m\u001b[1;33m]\u001b[0m\u001b[1;33m[\u001b[0m\u001b[1;36m0\u001b[0m\u001b[1;33m]\u001b[0m\u001b[1;33m\u001b[0m\u001b[0m\n\u001b[0m\u001b[0;32m     15\u001b[0m     \u001b[0mymax\u001b[0m \u001b[1;33m=\u001b[0m \u001b[0mhuge\u001b[0m\u001b[1;33m[\u001b[0m\u001b[0mt\u001b[0m\u001b[1;33m]\u001b[0m\u001b[1;33m[\u001b[0m\u001b[1;36m1\u001b[0m\u001b[1;33m]\u001b[0m\u001b[1;33m\u001b[0m\u001b[0m\n\u001b[0;32m     16\u001b[0m     \u001b[0mG\u001b[0m \u001b[1;33m=\u001b[0m \u001b[0mnx\u001b[0m\u001b[1;33m.\u001b[0m\u001b[0mgrid_2d_graph\u001b[0m\u001b[1;33m(\u001b[0m\u001b[0mxmax\u001b[0m\u001b[1;33m,\u001b[0m\u001b[0mymax\u001b[0m\u001b[1;33m)\u001b[0m\u001b[1;33m\u001b[0m\u001b[0m\n",
      "\u001b[1;31mIndexError\u001b[0m: list index out of range"
     ]
    }
   ],
   "source": [
    "huge=[\n",
    "    (3,2),\n",
    "    (4,3),\n",
    "    (5,4),\n",
    "    (10,5),\n",
    "    (20,10),\n",
    "    (40,20),\n",
    "    (80,40),\n",
    "    (200,80),\n",
    "    (1000,2),\n",
    "    (500,100)\n",
    "]\n",
    "for t in xrange(10):\n",
    "    xmax = huge[t][0]\n",
    "    ymax = huge[t][1]\n",
    "    G = nx.grid_2d_graph(xmax,ymax)\n",
    "    #print G.nodes()\n",
    "    pos = dict((n, n) for n in G.nodes())\n",
    "    labels = dict(((i, j), i+j*xmax) for i, j in G.nodes())\n",
    "    costs = dict(((i, j), np.random.randint(1,10)) for i, j in G.edges())\n",
    "\n",
    "    nx.set_node_attributes(G, 'pos', pos)\n",
    "    nx.set_node_attributes(G, 'labels', labels)\n",
    "    nx.set_edge_attributes(G, 'cost', costs)\n",
    "\n",
    "    for y in xrange(1,ymax-1):\n",
    "        for x in xrange(1,xmax-1):\n",
    "            #print \"(%s, %s) %s\"%(x,y,G.node[(x,y)]['labels'])\n",
    "            if np.random.randint(0,100)<=(20):\n",
    "                try:\n",
    "                    if len( G.neighbors((x,y)) ) >3 :\n",
    "                        #print \"(%s, %s) remove\"%(x,y)\n",
    "                        G.remove_nodes_from([(x,y)])\n",
    "\n",
    "                except KeyError as e:\n",
    "                    print e\n",
    "    for i in G.nodes():\n",
    "        if len( G.neighbors(i) ) <2 :\n",
    "            G.remove_nodes_from([i])\n",
    "\n",
    "    mystr=\"%s %s\\n\"%(len(G.nodes()),len(G.edges()))\n",
    "\n",
    "    for v in G.nodes():\n",
    "        mystr+=\"%s \"%G.node[v]['labels']\n",
    "    mystr+=\"\\n\"\n",
    "    for e in G.edges():\n",
    "        mystr+=\"%s %s %s\\n\"%(G.node[e[0]]['labels'], G.node[e[1]]['labels'], costs[e])\n",
    "\n",
    "    with open('%s.in'%(t+1), 'w') as f:\n",
    "        f.write(mystr)"
   ]
  },
  {
   "cell_type": "code",
   "execution_count": 5,
   "metadata": {
    "collapsed": false
   },
   "outputs": [
    {
     "data": {
      "text/plain": [
       "10"
      ]
     },
     "execution_count": 5,
     "metadata": {},
     "output_type": "execute_result"
    }
   ],
   "source": [
    "t"
   ]
  },
  {
   "cell_type": "code",
   "execution_count": null,
   "metadata": {
    "collapsed": true
   },
   "outputs": [],
   "source": []
  }
 ],
 "metadata": {
  "anaconda-cloud": {},
  "kernelspec": {
   "display_name": "Python [conda root]",
   "language": "python",
   "name": "conda-root-py"
  },
  "language_info": {
   "codemirror_mode": {
    "name": "ipython",
    "version": 2
   },
   "file_extension": ".py",
   "mimetype": "text/x-python",
   "name": "python",
   "nbconvert_exporter": "python",
   "pygments_lexer": "ipython2",
   "version": "2.7.12"
  }
 },
 "nbformat": 4,
 "nbformat_minor": 1
}
